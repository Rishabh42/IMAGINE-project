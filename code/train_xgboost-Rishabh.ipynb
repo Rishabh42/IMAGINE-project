{
 "cells": [
  {
   "cell_type": "code",
   "execution_count": null,
   "id": "026b877f",
   "metadata": {},
   "outputs": [],
   "source": [
    "# how to install packages for all the environments, very useful\n",
    "# import sys\n",
    "# !{sys.executable} -m pip install xgboost"
   ]
  },
  {
   "cell_type": "code",
   "execution_count": 6,
   "id": "8ec0df81",
   "metadata": {},
   "outputs": [
    {
     "data": {
      "text/plain": [
       "'/home/scott/Dropbox/IMAGINE Project/MSSI_Project/code/XGBoost Model Training'"
      ]
     },
     "execution_count": 6,
     "metadata": {},
     "output_type": "execute_result"
    }
   ],
   "source": [
    "import os\n",
    "import numpy as np\n",
    "import pandas as pd\n",
    "from sklearn.model_selection import train_test_split\n",
    "import xgboost as xgb\n",
    "from xgboost import XGBRegressor\n",
    "from sklearn.model_selection import GridSearchCV, RandomizedSearchCV\n",
    "from sklearn.model_selection import cross_val_score\n",
    "import sklearn.metrics as metrics\n",
    "import matplotlib.pyplot as plt\n",
    "\n",
    "os.getcwd()"
   ]
  },
  {
   "cell_type": "code",
   "execution_count": 2,
   "id": "36b1dbc6",
   "metadata": {},
   "outputs": [],
   "source": [
    "# define a function that does either a randomized search or a grid search\n",
    "\n",
    "def grid_search(x_dat, y_dat, n_cv, n_iterations, params, random=False):\n",
    "    \n",
    "    xgb = XGBRegressor(booster='gbtree', tree_method = 'hist', \n",
    "                       objective='reg:squarederror', random_state=2)\n",
    "    \n",
    "    if random:\n",
    "        tune_model = RandomizedSearchCV(xgb, params, cv= n_cv, n_iter= n_iterations, scoring = 'r2', n_jobs=-1)\n",
    "    else:\n",
    "        tune_model = GridSearchCV(xgb, params, cv= n_cv, n_jobs=-1)\n",
    "\n",
    "    tune_model.fit(x_dat, y_dat)\n",
    "\n",
    "    # Extract best params\n",
    "    best_params = tune_model.best_params_\n",
    "\n",
    "    # Print best params\n",
    "    print(\"Best params:\", best_params)\n",
    "    \n",
    "    # Compute best score\n",
    "    best_score = tune_model.best_score_\n",
    "\n",
    "    # Print best score\n",
    "    print(\"Best score: {:.5f}\".format(best_score))\n",
    "    \n",
    "    return tune_model"
   ]
  },
  {
   "cell_type": "code",
   "execution_count": null,
   "id": "bc0d5281",
   "metadata": {},
   "outputs": [],
   "source": [
    "#### 1. train UFP number model #### \n"
   ]
  },
  {
   "cell_type": "code",
   "execution_count": 5,
   "id": "196e87d1",
   "metadata": {},
   "outputs": [
    {
     "name": "stderr",
     "output_type": "stream",
     "text": [
      "/tmp/ipykernel_18011/1991446575.py:15: DtypeWarning: Columns (22,24,32,33,34,35) have mixed types. Specify dtype option on import or set low_memory=False.\n",
      "  dat = pd.read_csv(dat_name_path)\n"
     ]
    }
   ],
   "source": [
    "# 1. a read in the metadata file\n",
    "    # file needs to have CNN predictions\n",
    "    # there may be a new file for each site\n",
    "\n",
    "project_dir = os.getcwd()\n",
    "\n",
    "# removing 'code' from the file path\n",
    "compiled_data_dir = project_dir.split('code', 1)[0] + 'compiled data/'\n",
    "dat_name_path = compiled_data_dir + 'metadata_goproUFP_V2_V3_15012024_predictions_added.csv'\n",
    "\n",
    "# print(\"project_dir: \", project_dir)\n",
    "# print(\"compiled_data_dir:\",compiled_data_dir)\n",
    "# print(\"dat_name_path: \", dat_name_path)\n",
    "\n",
    "dat = pd.read_csv(dat_name_path)\n",
    "\n",
    "# some other metadata files\n",
    "    # metadata_goproUFP_V2_V3_15012024_predictions_added.csv\n",
    "    # version_3_compiled_data_13112023_with_predictions.csv\n",
    "    # metadata_goproUFP_V2_V3_15012024_predictions_added.csv"
   ]
  },
  {
   "cell_type": "code",
   "execution_count": 4,
   "id": "2b1bee57",
   "metadata": {},
   "outputs": [
    {
     "data": {
      "image/png": "[encoded data removed]",
      "text/plain": [
       "<Figure size 640x480 with 1 Axes>"
      ]
     },
     "metadata": {},
     "output_type": "display_data"
    }
   ],
   "source": [
    "# 1.b if using V2, get rid of all the rows where spec and image labels are very different\n",
    "dat['diff_col'] = dat.apply(lambda value: value.ln_ufp_num_10s_ma_image_label_raw - value.ln_ufp_num_10s_ma_spec_label_raw, axis = 1)\n",
    "\n",
    "dat = dat.loc[(abs(dat['diff_col']) <= 0.05)]\n",
    "\n",
    "# plot to confirm\n",
    "plt.hist(dat['diff_col'])\n",
    "plt.show()"
   ]
  },
  {
   "cell_type": "code",
   "execution_count": 5,
   "id": "26eb4fa7",
   "metadata": {
    "scrolled": true
   },
   "outputs": [
    {
     "data": {
      "text/plain": [
       "['datetime',\n",
       " 'image_path',\n",
       " 'audio_path',\n",
       " 'ln_ufp_num_10s_ma_image_label_raw',\n",
       " 'ln_ufp_num_10s_ma_spec_label_raw',\n",
       " 'ln_ufp_size_10s_ma_image_label_raw',\n",
       " 'ln_ufp_size_10s_ma_spec_label_raw',\n",
       " 'ln_noise_10s_ma_image_label_raw',\n",
       " 'ln_noise_10s_ma_spec_label_raw',\n",
       " 'ufp_num_10s_ma_image_label_raw',\n",
       " 'ufp_num_10s_ma_spec_label_raw',\n",
       " 'ufp_size_10s_ma_image_label_raw',\n",
       " 'ufp_size_10s_ma_spec_label_raw',\n",
       " 'noise_10s_ma_image_label_raw',\n",
       " 'noise_10s_ma_spec_label_raw',\n",
       " 'temp_airp',\n",
       " 'wspd_airp',\n",
       " 'year',\n",
       " 'city',\n",
       " 'pm25',\n",
       " 'file_exists',\n",
       " 'hardware',\n",
       " 'site_id',\n",
       " 'device_id',\n",
       " 'file',\n",
       " 'noise_10s_ma_spec_label_quartile',\n",
       " 'noise_10s_ma_image_label_quartile',\n",
       " 'ufp_num_10s_ma_spec_label_quartile',\n",
       " 'ufp_num_10s_ma_image_label_quartile',\n",
       " 'ufp_size_10s_ma_spec_label_quartile',\n",
       " 'ufp_size_10s_ma_image_label_quartile',\n",
       " 'set',\n",
       " 'image_extension',\n",
       " 'audio_extension',\n",
       " 'image_name',\n",
       " 'audio_name',\n",
       " 'pair_pm25',\n",
       " 'ln_ufp_num_ResNet50_image_raw_prediction',\n",
       " 'ln_ufp_num_Xception_audio_raw_prediction',\n",
       " 'ln_ufp_size_ResNet50_image_raw_prediction',\n",
       " 'ln_ufp_size_Xception_audio_raw_prediction',\n",
       " 'ln_noise_ResNet50_image_raw_prediction',\n",
       " 'ln_noise_Xception_audio_raw_prediction',\n",
       " 'diff_col']"
      ]
     },
     "execution_count": 5,
     "metadata": {},
     "output_type": "execute_result"
    }
   ],
   "source": [
    "[*dat]"
   ]
  },
  {
   "cell_type": "code",
   "execution_count": null,
   "id": "de121272",
   "metadata": {},
   "outputs": [],
   "source": [
    "######### 1. c subset to just the temporal adjustment data #######\n",
    "    # this may change depending on the site or which model we find works best\n",
    "\n",
    "dat = dat.loc[(dat['hardware'] == 'V2') & (dat['set'] == 'tst')]"
   ]
  },
  {
   "cell_type": "code",
   "execution_count": 16,
   "id": "47944c18",
   "metadata": {
    "scrolled": true
   },
   "outputs": [
    {
     "data": {
      "text/html": [
       "<div>\n",
       "<style scoped>\n",
       "    .dataframe tbody tr th:only-of-type {\n",
       "        vertical-align: middle;\n",
       "    }\n",
       "\n",
       "    .dataframe tbody tr th {\n",
       "        vertical-align: top;\n",
       "    }\n",
       "\n",
       "    .dataframe thead th {\n",
       "        text-align: right;\n",
       "    }\n",
       "</style>\n",
       "<table border=\"1\" class=\"dataframe\">\n",
       "  <thead>\n",
       "    <tr style=\"text-align: right;\">\n",
       "      <th></th>\n",
       "      <th>ufp_num_10s_ma_image_label_raw</th>\n",
       "      <th>temp_airp</th>\n",
       "      <th>wspd_airp</th>\n",
       "      <th>ln_ufp_num_ResNet50_image_raw_prediction</th>\n",
       "      <th>ln_ufp_num_Xception_audio_raw_prediction</th>\n",
       "      <th>ln_ufp_size_ResNet50_image_raw_prediction</th>\n",
       "      <th>ln_ufp_size_Xception_audio_raw_prediction</th>\n",
       "      <th>mean_ufp_num_pred_images</th>\n",
       "      <th>mean_ufp_num_pred_spectrogram</th>\n",
       "      <th>mean_ufp_size_pred_images</th>\n",
       "      <th>mean_ufp_size_pred_spectrogram</th>\n",
       "      <th>ln_ufp_num_raw</th>\n",
       "    </tr>\n",
       "  </thead>\n",
       "  <tbody>\n",
       "    <tr>\n",
       "      <th>181182</th>\n",
       "      <td>12604.1</td>\n",
       "      <td>7.9</td>\n",
       "      <td>17</td>\n",
       "      <td>9.291410</td>\n",
       "      <td>9.470450</td>\n",
       "      <td>3.574246</td>\n",
       "      <td>3.074266</td>\n",
       "      <td>9.291410</td>\n",
       "      <td>9.470450</td>\n",
       "      <td>3.574246</td>\n",
       "      <td>3.074266</td>\n",
       "      <td>9.441777</td>\n",
       "    </tr>\n",
       "    <tr>\n",
       "      <th>181186</th>\n",
       "      <td>18511.2</td>\n",
       "      <td>7.9</td>\n",
       "      <td>17</td>\n",
       "      <td>9.590915</td>\n",
       "      <td>10.185601</td>\n",
       "      <td>3.396478</td>\n",
       "      <td>3.510700</td>\n",
       "      <td>9.590915</td>\n",
       "      <td>10.185601</td>\n",
       "      <td>3.396478</td>\n",
       "      <td>3.510700</td>\n",
       "      <td>9.826131</td>\n",
       "    </tr>\n",
       "    <tr>\n",
       "      <th>181210</th>\n",
       "      <td>40545.1</td>\n",
       "      <td>7.9</td>\n",
       "      <td>17</td>\n",
       "      <td>9.964664</td>\n",
       "      <td>9.242957</td>\n",
       "      <td>3.251491</td>\n",
       "      <td>3.510501</td>\n",
       "      <td>9.964664</td>\n",
       "      <td>9.242957</td>\n",
       "      <td>3.251491</td>\n",
       "      <td>3.510501</td>\n",
       "      <td>10.610170</td>\n",
       "    </tr>\n",
       "    <tr>\n",
       "      <th>181226</th>\n",
       "      <td>22580.3</td>\n",
       "      <td>7.9</td>\n",
       "      <td>17</td>\n",
       "      <td>9.905908</td>\n",
       "      <td>9.341968</td>\n",
       "      <td>3.312613</td>\n",
       "      <td>3.305217</td>\n",
       "      <td>9.905908</td>\n",
       "      <td>9.341968</td>\n",
       "      <td>3.312613</td>\n",
       "      <td>3.305217</td>\n",
       "      <td>10.024833</td>\n",
       "    </tr>\n",
       "    <tr>\n",
       "      <th>181231</th>\n",
       "      <td>17193.5</td>\n",
       "      <td>7.9</td>\n",
       "      <td>17</td>\n",
       "      <td>9.543962</td>\n",
       "      <td>10.120339</td>\n",
       "      <td>3.356382</td>\n",
       "      <td>3.097605</td>\n",
       "      <td>9.543962</td>\n",
       "      <td>10.120339</td>\n",
       "      <td>3.356382</td>\n",
       "      <td>3.097605</td>\n",
       "      <td>9.752287</td>\n",
       "    </tr>\n",
       "    <tr>\n",
       "      <th>...</th>\n",
       "      <td>...</td>\n",
       "      <td>...</td>\n",
       "      <td>...</td>\n",
       "      <td>...</td>\n",
       "      <td>...</td>\n",
       "      <td>...</td>\n",
       "      <td>...</td>\n",
       "      <td>...</td>\n",
       "      <td>...</td>\n",
       "      <td>...</td>\n",
       "      <td>...</td>\n",
       "      <td>...</td>\n",
       "    </tr>\n",
       "    <tr>\n",
       "      <th>380893</th>\n",
       "      <td>11887.2</td>\n",
       "      <td>21.5</td>\n",
       "      <td>17</td>\n",
       "      <td>9.148834</td>\n",
       "      <td>9.616179</td>\n",
       "      <td>3.429090</td>\n",
       "      <td>3.634856</td>\n",
       "      <td>9.148834</td>\n",
       "      <td>9.616179</td>\n",
       "      <td>3.429090</td>\n",
       "      <td>3.634856</td>\n",
       "      <td>9.383217</td>\n",
       "    </tr>\n",
       "    <tr>\n",
       "      <th>380922</th>\n",
       "      <td>11996.2</td>\n",
       "      <td>21.5</td>\n",
       "      <td>17</td>\n",
       "      <td>9.297322</td>\n",
       "      <td>10.174942</td>\n",
       "      <td>3.496870</td>\n",
       "      <td>3.195641</td>\n",
       "      <td>9.297322</td>\n",
       "      <td>10.174942</td>\n",
       "      <td>3.496870</td>\n",
       "      <td>3.195641</td>\n",
       "      <td>9.392345</td>\n",
       "    </tr>\n",
       "    <tr>\n",
       "      <th>380970</th>\n",
       "      <td>7836.2</td>\n",
       "      <td>21.0</td>\n",
       "      <td>9</td>\n",
       "      <td>9.240519</td>\n",
       "      <td>9.407399</td>\n",
       "      <td>3.677284</td>\n",
       "      <td>3.570034</td>\n",
       "      <td>9.240519</td>\n",
       "      <td>9.407399</td>\n",
       "      <td>3.677284</td>\n",
       "      <td>3.570034</td>\n",
       "      <td>8.966509</td>\n",
       "    </tr>\n",
       "    <tr>\n",
       "      <th>381058</th>\n",
       "      <td>10016.0</td>\n",
       "      <td>20.2</td>\n",
       "      <td>10</td>\n",
       "      <td>9.236171</td>\n",
       "      <td>9.011784</td>\n",
       "      <td>3.664834</td>\n",
       "      <td>3.704597</td>\n",
       "      <td>9.236171</td>\n",
       "      <td>9.011784</td>\n",
       "      <td>3.664834</td>\n",
       "      <td>3.704597</td>\n",
       "      <td>9.211939</td>\n",
       "    </tr>\n",
       "    <tr>\n",
       "      <th>381067</th>\n",
       "      <td>10320.0</td>\n",
       "      <td>20.2</td>\n",
       "      <td>10</td>\n",
       "      <td>9.235477</td>\n",
       "      <td>9.205659</td>\n",
       "      <td>3.956389</td>\n",
       "      <td>3.699334</td>\n",
       "      <td>9.235477</td>\n",
       "      <td>9.205659</td>\n",
       "      <td>3.956389</td>\n",
       "      <td>3.699334</td>\n",
       "      <td>9.241839</td>\n",
       "    </tr>\n",
       "  </tbody>\n",
       "</table>\n",
       "<p>10904 rows × 12 columns</p>\n",
       "</div>"
      ],
      "text/plain": [
       "        ufp_num_10s_ma_image_label_raw  temp_airp  wspd_airp  \\\n",
       "181182                         12604.1        7.9         17   \n",
       "181186                         18511.2        7.9         17   \n",
       "181210                         40545.1        7.9         17   \n",
       "181226                         22580.3        7.9         17   \n",
       "181231                         17193.5        7.9         17   \n",
       "...                                ...        ...        ...   \n",
       "380893                         11887.2       21.5         17   \n",
       "380922                         11996.2       21.5         17   \n",
       "380970                          7836.2       21.0          9   \n",
       "381058                         10016.0       20.2         10   \n",
       "381067                         10320.0       20.2         10   \n",
       "\n",
       "        ln_ufp_num_ResNet50_image_raw_prediction  \\\n",
       "181182                                  9.291410   \n",
       "181186                                  9.590915   \n",
       "181210                                  9.964664   \n",
       "181226                                  9.905908   \n",
       "181231                                  9.543962   \n",
       "...                                          ...   \n",
       "380893                                  9.148834   \n",
       "380922                                  9.297322   \n",
       "380970                                  9.240519   \n",
       "381058                                  9.236171   \n",
       "381067                                  9.235477   \n",
       "\n",
       "        ln_ufp_num_Xception_audio_raw_prediction  \\\n",
       "181182                                  9.470450   \n",
       "181186                                 10.185601   \n",
       "181210                                  9.242957   \n",
       "181226                                  9.341968   \n",
       "181231                                 10.120339   \n",
       "...                                          ...   \n",
       "380893                                  9.616179   \n",
       "380922                                 10.174942   \n",
       "380970                                  9.407399   \n",
       "381058                                  9.011784   \n",
       "381067                                  9.205659   \n",
       "\n",
       "        ln_ufp_size_ResNet50_image_raw_prediction  \\\n",
       "181182                                   3.574246   \n",
       "181186                                   3.396478   \n",
       "181210                                   3.251491   \n",
       "181226                                   3.312613   \n",
       "181231                                   3.356382   \n",
       "...                                           ...   \n",
       "380893                                   3.429090   \n",
       "380922                                   3.496870   \n",
       "380970                                   3.677284   \n",
       "381058                                   3.664834   \n",
       "381067                                   3.956389   \n",
       "\n",
       "        ln_ufp_size_Xception_audio_raw_prediction  mean_ufp_num_pred_images  \\\n",
       "181182                                   3.074266                  9.291410   \n",
       "181186                                   3.510700                  9.590915   \n",
       "181210                                   3.510501                  9.964664   \n",
       "181226                                   3.305217                  9.905908   \n",
       "181231                                   3.097605                  9.543962   \n",
       "...                                           ...                       ...   \n",
       "380893                                   3.634856                  9.148834   \n",
       "380922                                   3.195641                  9.297322   \n",
       "380970                                   3.570034                  9.240519   \n",
       "381058                                   3.704597                  9.236171   \n",
       "381067                                   3.699334                  9.235477   \n",
       "\n",
       "        mean_ufp_num_pred_spectrogram  mean_ufp_size_pred_images  \\\n",
       "181182                       9.470450                   3.574246   \n",
       "181186                      10.185601                   3.396478   \n",
       "181210                       9.242957                   3.251491   \n",
       "181226                       9.341968                   3.312613   \n",
       "181231                      10.120339                   3.356382   \n",
       "...                               ...                        ...   \n",
       "380893                       9.616179                   3.429090   \n",
       "380922                      10.174942                   3.496870   \n",
       "380970                       9.407399                   3.677284   \n",
       "381058                       9.011784                   3.664834   \n",
       "381067                       9.205659                   3.956389   \n",
       "\n",
       "        mean_ufp_size_pred_spectrogram  ln_ufp_num_raw  \n",
       "181182                        3.074266        9.441777  \n",
       "181186                        3.510700        9.826131  \n",
       "181210                        3.510501       10.610170  \n",
       "181226                        3.305217       10.024833  \n",
       "181231                        3.097605        9.752287  \n",
       "...                                ...             ...  \n",
       "380893                        3.634856        9.383217  \n",
       "380922                        3.195641        9.392345  \n",
       "380970                        3.570034        8.966509  \n",
       "381058                        3.704597        9.211939  \n",
       "381067                        3.699334        9.241839  \n",
       "\n",
       "[10904 rows x 12 columns]"
      ]
     },
     "execution_count": 16,
     "metadata": {},
     "output_type": "execute_result"
    }
   ],
   "source": [
    "# 1.d. prep data for XGBoost training\n",
    "\n",
    "# selecting and renaming columns\n",
    "\n",
    "train_dat = dat.loc[:, [\"ufp_num_10s_ma_image_label_raw\", \n",
    "     \"temp_airp\",\n",
    "     \"wspd_airp\",\n",
    "    # dat is missing ln_ufp_..._Xception predictions\n",
    "     \"ln_ufp_num_ResNet50_image_raw_prediction\", \n",
    "     \"ln_ufp_num_Xception_audio_raw_prediction\", \n",
    "     \"ln_ufp_size_ResNet50_image_raw_prediction\", \n",
    "     \"ln_ufp_size_Xception_audio_raw_prediction\"]]\n",
    "\n",
    "# # create new colums, mean predictions and the log transformed outcome\n",
    "# train_dat.loc[:,['mean_ufp_num_pred_images']] = train_dat.apply(lambda value: value.ufp_num_pred_images_resnet + value.ufp_num_pred_images_xception, axis = 1)\n",
    "# train_dat.loc[:,['mean_ufp_num_pred_spectrogram']] = train_dat.apply(lambda value: value.ufp_num_pred_spectrogram_resnet + value.ufp_num_pred_spectrogram_xception, axis = 1)\n",
    "# train_dat.loc[:,['mean_ufp_size_pred_images']] = train_dat.apply(lambda value: value.ufp_size_pred_images_resnet + value.ufp_size_pred_images_xception, axis = 1)\n",
    "# train_dat.loc[:,['mean_ufp_size_pred_spectrogram']] = train_dat.apply(lambda value: value.ufp_size_pred_spectrogram_resnet + value.ufp_size_pred_spectrogram_xception, axis = 1)\n",
    "# train_dat.loc[:,['ln_ufp_num_raw']] = train_dat.apply(lambda value: np.log(value.ufp_num_10s_ma_image_label_raw), axis = 1)\n",
    "\n",
    "# # a bit overdone, this is just duplicating the ResNet50 columns with new names that fit the work flow, but this could easily add the Xception if/when they are there\n",
    "train_dat.loc[:,['mean_ufp_num_pred_images']] = train_dat.apply(lambda value: value.ln_ufp_num_ResNet50_image_raw_prediction, axis = 1)\n",
    "train_dat.loc[:,['mean_ufp_num_pred_spectrogram']] = train_dat.apply(lambda value: value.ln_ufp_num_Xception_audio_raw_prediction, axis = 1)\n",
    "train_dat.loc[:,['mean_ufp_size_pred_images']] = train_dat.apply(lambda value: value.ln_ufp_size_ResNet50_image_raw_prediction, axis = 1)\n",
    "train_dat.loc[:,['mean_ufp_size_pred_spectrogram']] = train_dat.apply(lambda value: value.ln_ufp_size_Xception_audio_raw_prediction, axis = 1)\n",
    "train_dat.loc[:,['ln_ufp_num_raw']] = train_dat.apply(lambda value: np.log(value.ufp_num_10s_ma_image_label_raw), axis = 1)\n",
    "\n",
    "\n",
    "train_dat"
   ]
  },
  {
   "cell_type": "code",
   "execution_count": 17,
   "id": "fdf056a6",
   "metadata": {},
   "outputs": [
    {
     "data": {
      "text/plain": [
       "ufp_num_10s_ma_image_label_raw               float64\n",
       "temp_airp                                    float64\n",
       "wspd_airp                                      int64\n",
       "ln_ufp_num_ResNet50_image_raw_prediction     float64\n",
       "ln_ufp_num_Xception_audio_raw_prediction     float64\n",
       "ln_ufp_size_ResNet50_image_raw_prediction    float64\n",
       "ln_ufp_size_Xception_audio_raw_prediction    float64\n",
       "mean_ufp_num_pred_images                     float64\n",
       "mean_ufp_num_pred_spectrogram                float64\n",
       "mean_ufp_size_pred_images                    float64\n",
       "mean_ufp_size_pred_spectrogram               float64\n",
       "ln_ufp_num_raw                               float64\n",
       "dtype: object"
      ]
     },
     "execution_count": 17,
     "metadata": {},
     "output_type": "execute_result"
    }
   ],
   "source": [
    "train_dat.dtypes"
   ]
  },
  {
   "cell_type": "code",
   "execution_count": 19,
   "id": "77940617",
   "metadata": {},
   "outputs": [
    {
     "data": {
      "text/plain": [
       "mean_ufp_num_pred_images          float64\n",
       "mean_ufp_num_pred_spectrogram     float64\n",
       "mean_ufp_size_pred_spectrogram    float64\n",
       "mean_ufp_size_pred_images         float64\n",
       "temp_airp                         float64\n",
       "wspd_airp                           int64\n",
       "dtype: object"
      ]
     },
     "execution_count": 19,
     "metadata": {},
     "output_type": "execute_result"
    }
   ],
   "source": [
    "# define predictors and target, windspeed included\n",
    "X_predictors, y_target = train_dat.loc[:,['mean_ufp_num_pred_images', 'mean_ufp_num_pred_spectrogram', 'mean_ufp_size_pred_spectrogram', 'mean_ufp_size_pred_images', 'temp_airp', 'wspd_airp']], train_dat.loc[:,'ln_ufp_num_raw']\n",
    "\n",
    "# do without windspeed for now\n",
    "# X_predictors, y_target = train_dat.loc[:,['mean_ufp_num_pred_images', 'mean_ufp_num_pred_spectrogram', 'mean_ufp_size_pred_spectrogram', 'mean_ufp_size_pred_images', 'temp_airp']], train_dat.loc[:,'ln_ufp_num_raw']\n",
    "\n",
    "X_predictors_train, X_predictors_test, y_target_train, y_target_test = train_test_split(X_predictors, y_target, random_state = 1)\n",
    "\n",
    "X_predictors.dtypes"
   ]
  },
  {
   "cell_type": "code",
   "execution_count": 20,
   "id": "241a95b0",
   "metadata": {},
   "outputs": [],
   "source": [
    "# 1.e. define the ranges of the parameters we want to tune. I took these values from R code\n",
    "# experiment with different ranges\n",
    "\n",
    "my_params = {'learning_rate': np.linspace(0,1,11),\n",
    "             'gamma': list(range(0,11,1)),\n",
    "             'max_depth': list(range(1, 11, 1)),\n",
    "             'min_child_weight': list(range(1,201,10)),\n",
    "             'colsample_bytree': np.linspace(0.2,1,9),\n",
    "             'colsample_bynode': np.linspace(0.2,1,9), \n",
    "             'colsample_bylevel': np.linspace(0.2,1,9), \n",
    "            }\n",
    " "
   ]
  },
  {
   "cell_type": "code",
   "execution_count": 21,
   "id": "01b98b6a",
   "metadata": {},
   "outputs": [
    {
     "name": "stdout",
     "output_type": "stream",
     "text": [
      "Best params: {'min_child_weight': 61, 'max_depth': 7, 'learning_rate': 0.1, 'gamma': 0, 'colsample_bytree': 0.9000000000000001, 'colsample_bynode': 0.9000000000000001, 'colsample_bylevel': 0.8}\n",
      "Best score: 0.86807\n"
     ]
    }
   ],
   "source": [
    "# 1.f. tune and evaluate model\n",
    "\n",
    "# tune model over range of parameters\n",
    "random_search_model = grid_search(x_dat = X_predictors_train, y_dat = y_target_train, \n",
    "                                  n_cv = 10, n_iterations = 5000,\n",
    "                                  params = my_params, \n",
    "                                  random = True)"
   ]
  },
  {
   "cell_type": "code",
   "execution_count": 22,
   "id": "be70cd73",
   "metadata": {},
   "outputs": [
    {
     "data": {
      "text/plain": [
       "array([0.87052569, 0.86630299, 0.87081617, 0.87990008, 0.88286209,\n",
       "       0.88709878, 0.8554668 , 0.87688162, 0.879254  , 0.80905288])"
      ]
     },
     "execution_count": 22,
     "metadata": {},
     "output_type": "execute_result"
    }
   ],
   "source": [
    "# use tuned values to train model and evaluate in CV in training set\n",
    "tuned_params = random_search_model.best_params_\n",
    "\n",
    "my_xgb = XGBRegressor(booster='gbtree', tree_method = 'hist', objective='reg:squarederror', random_state=2,\n",
    "                      min_child_weight = tuned_params['min_child_weight'], max_depth = tuned_params['max_depth'],\n",
    "                      learning_rate = tuned_params['learning_rate'], gamma = tuned_params['gamma'], \n",
    "                      colsample_bytree = tuned_params['colsample_bytree'])\n",
    "\n",
    "cross_val_score(my_xgb, X_predictors_train, y_target_train, cv=10, scoring = 'r2')"
   ]
  },
  {
   "cell_type": "code",
   "execution_count": 23,
   "id": "d3896f1f",
   "metadata": {},
   "outputs": [],
   "source": [
    "# train on training data. The tuned parameters are already in my_xgb\n",
    "final_model = my_xgb.fit(X_predictors_train, y_target_train)"
   ]
  },
  {
   "cell_type": "code",
   "execution_count": 24,
   "id": "ff5da6fa",
   "metadata": {},
   "outputs": [
    {
     "name": "stdout",
     "output_type": "stream",
     "text": [
      "RMSE of the base model: 0.271\n",
      "R2 of the base model: 0.860\n"
     ]
    }
   ],
   "source": [
    "# evaluate in test set\n",
    "\n",
    "y_preds = final_model.predict(X_predictors_test)\n",
    "\n",
    "rmse = metrics.mean_squared_error(y_target_test, y_preds, squared=False)\n",
    "print(f\"RMSE of the base model: {rmse:.3f}\")\n",
    "\n",
    "r2 = metrics.r2_score(y_target_test, y_preds)\n",
    "print(f\"R2 of the base model: {r2:.3f}\")"
   ]
  },
  {
   "cell_type": "code",
   "execution_count": 25,
   "id": "e43741ba",
   "metadata": {},
   "outputs": [
    {
     "name": "stdout",
     "output_type": "stream",
     "text": [
      "RMSE of the base model: 0.225\n",
      "R2 of the base model: 0.898\n"
     ]
    }
   ],
   "source": [
    "# compare to evaluation in training set (non-CV)\n",
    "\n",
    "y_preds = final_model.predict(X_predictors_train)\n",
    "\n",
    "rmse = metrics.mean_squared_error(y_target_train, y_preds, squared=False)\n",
    "print(f\"RMSE of the base model: {rmse:.3f}\")\n",
    "\n",
    "r2 = metrics.r2_score(y_target_train, y_preds)\n",
    "print(f\"R2 of the base model: {r2:.3f}\")"
   ]
  },
  {
   "cell_type": "code",
   "execution_count": 27,
   "id": "4f62561c",
   "metadata": {},
   "outputs": [
    {
     "data": {
      "text/plain": [
       "'/home/scott/Dropbox/IMAGINE Project/MSSI_Project/code/XGBoost Model Training'"
      ]
     },
     "execution_count": 27,
     "metadata": {},
     "output_type": "execute_result"
    }
   ],
   "source": [
    "project_dir"
   ]
  },
  {
   "cell_type": "code",
   "execution_count": 28,
   "id": "9039a58c",
   "metadata": {},
   "outputs": [
    {
     "name": "stderr",
     "output_type": "stream",
     "text": [
      "/home/scott/anaconda3/envs/tf-gpu/lib/python3.8/site-packages/xgboost/core.py:160: UserWarning: [14:17:42] WARNING: /workspace/src/c_api/c_api.cc:1240: Saving into deprecated binary model format, please consider using `json` or `ubj`. Model format will default to JSON in XGBoost 2.2 if not specified.\n",
      "  warnings.warn(smsg, UserWarning)\n"
     ]
    }
   ],
   "source": [
    "# 1.g. save model https://subscription.packtpub.com/book/data/9781838552862/5/ch05lvl1sec39/saving-and-loading-a-model\n",
    "# Save to a new folder 'Rishabh/model_files'\n",
    "final_model.save_model('/home/scott/Dropbox/IMAGINE Project/MSSI_Project/Current IMAGINE Models/xgboost_models/ln_ufp_num_xgboost.model')"
   ]
  },
  {
   "cell_type": "code",
   "execution_count": 29,
   "id": "1baed1c4",
   "metadata": {},
   "outputs": [],
   "source": [
    "loaded_model = xgb.Booster({'nthread': 2})\n",
    "# Save to a new folder 'Rishabh/model_files'\n",
    "loaded_model.load_model('/home/scott/Dropbox/IMAGINE Project/MSSI_Project/Current IMAGINE Models/xgboost_models/ln_ufp_num_xgboost.model')"
   ]
  },
  {
   "cell_type": "code",
   "execution_count": 30,
   "id": "29edb70c",
   "metadata": {},
   "outputs": [
    {
     "name": "stdout",
     "output_type": "stream",
     "text": [
      "RMSE of the base model: 0.225\n",
      "R2 of the base model: 0.898\n"
     ]
    }
   ],
   "source": [
    "# compare to evaluation in training set (non-CV)\n",
    "# Redundant cell\n",
    "\n",
    "train_reg = xgb.DMatrix(X_predictors_train) # even though I didn't pre-process the trainning this way, this is what it expects, I'm guessing this happened behind the scenes somewhere. no biggie\n",
    "\n",
    "y_preds = loaded_model.predict(train_reg)\n",
    "\n",
    "rmse = metrics.mean_squared_error(y_target_train, y_preds, squared=False)\n",
    "print(f\"RMSE of the base model: {rmse:.3f}\")\n",
    "\n",
    "r2 = metrics.r2_score(y_target_train, y_preds)\n",
    "print(f\"R2 of the base model: {r2:.3f}\")"
   ]
  },
  {
   "cell_type": "code",
   "execution_count": null,
   "id": "c8f77e64",
   "metadata": {},
   "outputs": [],
   "source": []
  },
  {
   "cell_type": "code",
   "execution_count": null,
   "id": "27449d83",
   "metadata": {},
   "outputs": [],
   "source": []
  },
  {
   "cell_type": "code",
   "execution_count": null,
   "id": "dfbe3861",
   "metadata": {},
   "outputs": [],
   "source": [
    "#### 2. train Noise XGBoost Model #### (Predicting noise)"
   ]
  },
  {
   "cell_type": "code",
   "execution_count": 32,
   "id": "c6277811",
   "metadata": {},
   "outputs": [
    {
     "name": "stderr",
     "output_type": "stream",
     "text": [
      "/tmp/ipykernel_3911/266810059.py:5: DtypeWarning: Columns (22,24,32,33,34,35) have mixed types. Specify dtype option on import or set low_memory=False.\n",
      "  dat = pd.read_csv(dat_name_path)\n"
     ]
    },
    {
     "data": {
      "image/png": "[encoded data removed]",
      "text/plain": [
       "<Figure size 640x480 with 1 Axes>"
      ]
     },
     "metadata": {},
     "output_type": "display_data"
    }
   ],
   "source": [
    "project_dir = os.getcwd()\n",
    "compiled_data_dir = project_dir.split('code', 1)[0] + 'compiled data/'\n",
    "dat_name_path = compiled_data_dir + 'metadata_goproUFP_V2_V3_15012024_predictions_added.csv'\n",
    "\n",
    "dat = pd.read_csv(dat_name_path)\n",
    "\n",
    "# if using V2, get rid of all the rows where spec and image labels are very different\n",
    "dat['diff_col'] = dat.apply(lambda value: value.ln_ufp_num_10s_ma_image_label_raw - value.ln_ufp_num_10s_ma_spec_label_raw, axis = 1)\n",
    "\n",
    "dat = dat.loc[(abs(dat['diff_col']) <= 0.05)]\n",
    "\n",
    "# plot to confirm\n",
    "plt.hist(dat['diff_col'])\n",
    "plt.show()"
   ]
  },
  {
   "cell_type": "code",
   "execution_count": 34,
   "id": "2e59257d",
   "metadata": {},
   "outputs": [
    {
     "data": {
      "text/plain": [
       "['datetime',\n",
       " 'image_path',\n",
       " 'audio_path',\n",
       " 'ln_ufp_num_10s_ma_image_label_raw',\n",
       " 'ln_ufp_num_10s_ma_spec_label_raw',\n",
       " 'ln_ufp_size_10s_ma_image_label_raw',\n",
       " 'ln_ufp_size_10s_ma_spec_label_raw',\n",
       " 'ln_noise_10s_ma_image_label_raw',\n",
       " 'ln_noise_10s_ma_spec_label_raw',\n",
       " 'ufp_num_10s_ma_image_label_raw',\n",
       " 'ufp_num_10s_ma_spec_label_raw',\n",
       " 'ufp_size_10s_ma_image_label_raw',\n",
       " 'ufp_size_10s_ma_spec_label_raw',\n",
       " 'noise_10s_ma_image_label_raw',\n",
       " 'noise_10s_ma_spec_label_raw',\n",
       " 'temp_airp',\n",
       " 'wspd_airp',\n",
       " 'year',\n",
       " 'city',\n",
       " 'pm25',\n",
       " 'file_exists',\n",
       " 'hardware',\n",
       " 'site_id',\n",
       " 'device_id',\n",
       " 'file',\n",
       " 'noise_10s_ma_spec_label_quartile',\n",
       " 'noise_10s_ma_image_label_quartile',\n",
       " 'ufp_num_10s_ma_spec_label_quartile',\n",
       " 'ufp_num_10s_ma_image_label_quartile',\n",
       " 'ufp_size_10s_ma_spec_label_quartile',\n",
       " 'ufp_size_10s_ma_image_label_quartile',\n",
       " 'set',\n",
       " 'image_extension',\n",
       " 'audio_extension',\n",
       " 'image_name',\n",
       " 'audio_name',\n",
       " 'pair_pm25',\n",
       " 'ln_ufp_num_ResNet50_image_raw_prediction',\n",
       " 'ln_ufp_num_Xception_audio_raw_prediction',\n",
       " 'ln_ufp_size_ResNet50_image_raw_prediction',\n",
       " 'ln_ufp_size_Xception_audio_raw_prediction',\n",
       " 'ln_noise_ResNet50_image_raw_prediction',\n",
       " 'ln_noise_Xception_audio_raw_prediction',\n",
       " 'diff_col']"
      ]
     },
     "execution_count": 34,
     "metadata": {},
     "output_type": "execute_result"
    }
   ],
   "source": [
    "[*dat]"
   ]
  },
  {
   "cell_type": "code",
   "execution_count": 37,
   "id": "1405228d",
   "metadata": {
    "scrolled": true
   },
   "outputs": [
    {
     "data": {
      "text/html": [
       "<div>\n",
       "<style scoped>\n",
       "    .dataframe tbody tr th:only-of-type {\n",
       "        vertical-align: middle;\n",
       "    }\n",
       "\n",
       "    .dataframe tbody tr th {\n",
       "        vertical-align: top;\n",
       "    }\n",
       "\n",
       "    .dataframe thead th {\n",
       "        text-align: right;\n",
       "    }\n",
       "</style>\n",
       "<table border=\"1\" class=\"dataframe\">\n",
       "  <thead>\n",
       "    <tr style=\"text-align: right;\">\n",
       "      <th></th>\n",
       "      <th>noise_10s_ma_spec_label_raw</th>\n",
       "      <th>temp_airp</th>\n",
       "      <th>wspd_airp</th>\n",
       "      <th>ln_noise_ResNet50_image_raw_prediction</th>\n",
       "      <th>ln_noise_Xception_audio_raw_prediction</th>\n",
       "      <th>ln_ufp_size_Xception_audio_raw_prediction</th>\n",
       "      <th>ln_ufp_size_ResNet50_image_raw_prediction</th>\n",
       "      <th>mean_noise_pred_images</th>\n",
       "      <th>mean_noise_pred_spectrogram</th>\n",
       "      <th>mean_ufp_size_pred_images</th>\n",
       "      <th>mean_ufp_size_pred_spectrogram</th>\n",
       "      <th>ln_noise_raw</th>\n",
       "    </tr>\n",
       "  </thead>\n",
       "  <tbody>\n",
       "    <tr>\n",
       "      <th>181182</th>\n",
       "      <td>64.67</td>\n",
       "      <td>7.9</td>\n",
       "      <td>17</td>\n",
       "      <td>4.153514</td>\n",
       "      <td>4.124436</td>\n",
       "      <td>3.074266</td>\n",
       "      <td>3.574246</td>\n",
       "      <td>4.153514</td>\n",
       "      <td>4.124436</td>\n",
       "      <td>3.574246</td>\n",
       "      <td>3.074266</td>\n",
       "      <td>4.169297</td>\n",
       "    </tr>\n",
       "    <tr>\n",
       "      <th>181186</th>\n",
       "      <td>68.11</td>\n",
       "      <td>7.9</td>\n",
       "      <td>17</td>\n",
       "      <td>4.200681</td>\n",
       "      <td>4.133080</td>\n",
       "      <td>3.510700</td>\n",
       "      <td>3.396478</td>\n",
       "      <td>4.200681</td>\n",
       "      <td>4.133080</td>\n",
       "      <td>3.396478</td>\n",
       "      <td>3.510700</td>\n",
       "      <td>4.221124</td>\n",
       "    </tr>\n",
       "    <tr>\n",
       "      <th>181210</th>\n",
       "      <td>58.38</td>\n",
       "      <td>7.9</td>\n",
       "      <td>17</td>\n",
       "      <td>4.134376</td>\n",
       "      <td>4.087533</td>\n",
       "      <td>3.510501</td>\n",
       "      <td>3.251491</td>\n",
       "      <td>4.134376</td>\n",
       "      <td>4.087533</td>\n",
       "      <td>3.251491</td>\n",
       "      <td>3.510501</td>\n",
       "      <td>4.066973</td>\n",
       "    </tr>\n",
       "    <tr>\n",
       "      <th>181226</th>\n",
       "      <td>72.88</td>\n",
       "      <td>7.9</td>\n",
       "      <td>17</td>\n",
       "      <td>4.164587</td>\n",
       "      <td>4.246425</td>\n",
       "      <td>3.305217</td>\n",
       "      <td>3.312613</td>\n",
       "      <td>4.164587</td>\n",
       "      <td>4.246425</td>\n",
       "      <td>3.312613</td>\n",
       "      <td>3.305217</td>\n",
       "      <td>4.288814</td>\n",
       "    </tr>\n",
       "    <tr>\n",
       "      <th>181231</th>\n",
       "      <td>67.06</td>\n",
       "      <td>7.9</td>\n",
       "      <td>17</td>\n",
       "      <td>4.178122</td>\n",
       "      <td>4.169342</td>\n",
       "      <td>3.097605</td>\n",
       "      <td>3.356382</td>\n",
       "      <td>4.178122</td>\n",
       "      <td>4.169342</td>\n",
       "      <td>3.356382</td>\n",
       "      <td>3.097605</td>\n",
       "      <td>4.205588</td>\n",
       "    </tr>\n",
       "    <tr>\n",
       "      <th>...</th>\n",
       "      <td>...</td>\n",
       "      <td>...</td>\n",
       "      <td>...</td>\n",
       "      <td>...</td>\n",
       "      <td>...</td>\n",
       "      <td>...</td>\n",
       "      <td>...</td>\n",
       "      <td>...</td>\n",
       "      <td>...</td>\n",
       "      <td>...</td>\n",
       "      <td>...</td>\n",
       "      <td>...</td>\n",
       "    </tr>\n",
       "    <tr>\n",
       "      <th>380893</th>\n",
       "      <td>69.84</td>\n",
       "      <td>21.5</td>\n",
       "      <td>17</td>\n",
       "      <td>4.309507</td>\n",
       "      <td>4.266845</td>\n",
       "      <td>3.634856</td>\n",
       "      <td>3.429090</td>\n",
       "      <td>4.309507</td>\n",
       "      <td>4.266845</td>\n",
       "      <td>3.429090</td>\n",
       "      <td>3.634856</td>\n",
       "      <td>4.246207</td>\n",
       "    </tr>\n",
       "    <tr>\n",
       "      <th>380922</th>\n",
       "      <td>71.46</td>\n",
       "      <td>21.5</td>\n",
       "      <td>17</td>\n",
       "      <td>4.236364</td>\n",
       "      <td>4.234469</td>\n",
       "      <td>3.195641</td>\n",
       "      <td>3.496870</td>\n",
       "      <td>4.236364</td>\n",
       "      <td>4.234469</td>\n",
       "      <td>3.496870</td>\n",
       "      <td>3.195641</td>\n",
       "      <td>4.269138</td>\n",
       "    </tr>\n",
       "    <tr>\n",
       "      <th>380970</th>\n",
       "      <td>70.89</td>\n",
       "      <td>21.0</td>\n",
       "      <td>9</td>\n",
       "      <td>4.257527</td>\n",
       "      <td>4.267630</td>\n",
       "      <td>3.570034</td>\n",
       "      <td>3.677284</td>\n",
       "      <td>4.257527</td>\n",
       "      <td>4.267630</td>\n",
       "      <td>3.677284</td>\n",
       "      <td>3.570034</td>\n",
       "      <td>4.261129</td>\n",
       "    </tr>\n",
       "    <tr>\n",
       "      <th>381058</th>\n",
       "      <td>72.11</td>\n",
       "      <td>20.2</td>\n",
       "      <td>10</td>\n",
       "      <td>4.238052</td>\n",
       "      <td>4.274213</td>\n",
       "      <td>3.704597</td>\n",
       "      <td>3.664834</td>\n",
       "      <td>4.238052</td>\n",
       "      <td>4.274213</td>\n",
       "      <td>3.664834</td>\n",
       "      <td>3.704597</td>\n",
       "      <td>4.278193</td>\n",
       "    </tr>\n",
       "    <tr>\n",
       "      <th>381067</th>\n",
       "      <td>68.55</td>\n",
       "      <td>20.2</td>\n",
       "      <td>10</td>\n",
       "      <td>4.222803</td>\n",
       "      <td>4.208894</td>\n",
       "      <td>3.699334</td>\n",
       "      <td>3.956389</td>\n",
       "      <td>4.222803</td>\n",
       "      <td>4.208894</td>\n",
       "      <td>3.956389</td>\n",
       "      <td>3.699334</td>\n",
       "      <td>4.227563</td>\n",
       "    </tr>\n",
       "  </tbody>\n",
       "</table>\n",
       "<p>10904 rows × 12 columns</p>\n",
       "</div>"
      ],
      "text/plain": [
       "        noise_10s_ma_spec_label_raw  temp_airp  wspd_airp  \\\n",
       "181182                        64.67        7.9         17   \n",
       "181186                        68.11        7.9         17   \n",
       "181210                        58.38        7.9         17   \n",
       "181226                        72.88        7.9         17   \n",
       "181231                        67.06        7.9         17   \n",
       "...                             ...        ...        ...   \n",
       "380893                        69.84       21.5         17   \n",
       "380922                        71.46       21.5         17   \n",
       "380970                        70.89       21.0          9   \n",
       "381058                        72.11       20.2         10   \n",
       "381067                        68.55       20.2         10   \n",
       "\n",
       "        ln_noise_ResNet50_image_raw_prediction  \\\n",
       "181182                                4.153514   \n",
       "181186                                4.200681   \n",
       "181210                                4.134376   \n",
       "181226                                4.164587   \n",
       "181231                                4.178122   \n",
       "...                                        ...   \n",
       "380893                                4.309507   \n",
       "380922                                4.236364   \n",
       "380970                                4.257527   \n",
       "381058                                4.238052   \n",
       "381067                                4.222803   \n",
       "\n",
       "        ln_noise_Xception_audio_raw_prediction  \\\n",
       "181182                                4.124436   \n",
       "181186                                4.133080   \n",
       "181210                                4.087533   \n",
       "181226                                4.246425   \n",
       "181231                                4.169342   \n",
       "...                                        ...   \n",
       "380893                                4.266845   \n",
       "380922                                4.234469   \n",
       "380970                                4.267630   \n",
       "381058                                4.274213   \n",
       "381067                                4.208894   \n",
       "\n",
       "        ln_ufp_size_Xception_audio_raw_prediction  \\\n",
       "181182                                   3.074266   \n",
       "181186                                   3.510700   \n",
       "181210                                   3.510501   \n",
       "181226                                   3.305217   \n",
       "181231                                   3.097605   \n",
       "...                                           ...   \n",
       "380893                                   3.634856   \n",
       "380922                                   3.195641   \n",
       "380970                                   3.570034   \n",
       "381058                                   3.704597   \n",
       "381067                                   3.699334   \n",
       "\n",
       "        ln_ufp_size_ResNet50_image_raw_prediction  mean_noise_pred_images  \\\n",
       "181182                                   3.574246                4.153514   \n",
       "181186                                   3.396478                4.200681   \n",
       "181210                                   3.251491                4.134376   \n",
       "181226                                   3.312613                4.164587   \n",
       "181231                                   3.356382                4.178122   \n",
       "...                                           ...                     ...   \n",
       "380893                                   3.429090                4.309507   \n",
       "380922                                   3.496870                4.236364   \n",
       "380970                                   3.677284                4.257527   \n",
       "381058                                   3.664834                4.238052   \n",
       "381067                                   3.956389                4.222803   \n",
       "\n",
       "        mean_noise_pred_spectrogram  mean_ufp_size_pred_images  \\\n",
       "181182                     4.124436                   3.574246   \n",
       "181186                     4.133080                   3.396478   \n",
       "181210                     4.087533                   3.251491   \n",
       "181226                     4.246425                   3.312613   \n",
       "181231                     4.169342                   3.356382   \n",
       "...                             ...                        ...   \n",
       "380893                     4.266845                   3.429090   \n",
       "380922                     4.234469                   3.496870   \n",
       "380970                     4.267630                   3.677284   \n",
       "381058                     4.274213                   3.664834   \n",
       "381067                     4.208894                   3.956389   \n",
       "\n",
       "        mean_ufp_size_pred_spectrogram  ln_noise_raw  \n",
       "181182                        3.074266      4.169297  \n",
       "181186                        3.510700      4.221124  \n",
       "181210                        3.510501      4.066973  \n",
       "181226                        3.305217      4.288814  \n",
       "181231                        3.097605      4.205588  \n",
       "...                                ...           ...  \n",
       "380893                        3.634856      4.246207  \n",
       "380922                        3.195641      4.269138  \n",
       "380970                        3.570034      4.261129  \n",
       "381058                        3.704597      4.278193  \n",
       "381067                        3.699334      4.227563  \n",
       "\n",
       "[10904 rows x 12 columns]"
      ]
     },
     "execution_count": 37,
     "metadata": {},
     "output_type": "execute_result"
    }
   ],
   "source": [
    "dat = dat.loc[(dat['hardware'] == 'V2') & (dat['set'] == 'tst')]\n",
    "\n",
    "noise_dat = dat.loc[:, [\"noise_10s_ma_spec_label_raw\", \n",
    "     \"temp_airp\",\n",
    "     \"wspd_airp\",\n",
    "    # something strange, should be image and audio for each y and arch, so twice as many\n",
    "     \"ln_noise_ResNet50_image_raw_prediction\", \n",
    "     \"ln_noise_Xception_audio_raw_prediction\", \n",
    "     \"ln_ufp_size_Xception_audio_raw_prediction\", \n",
    "     \"ln_ufp_size_ResNet50_image_raw_prediction\"]]\n",
    "\n",
    "# # create new colums, mean predictions and the log transformed outcome\n",
    "# noise_dat.loc[:,['mean_noise_pred_images']] = noise_dat.apply(lambda value: value.noise_pred_images_resnet + value.noise_pred_images_xception, axis = 1)\n",
    "# noise_dat.loc[:,['mean_noise_pred_spectrogram']] = noise_dat.apply(lambda value: value.noise_pred_spectrogram_resnet + value.noise_pred_spectrogram_xception, axis = 1)\n",
    "# noise_dat.loc[:,['mean_ufp_size_pred_images']] = noise_dat.apply(lambda value: value.ufp_size_pred_images_resnet + value.ufp_size_pred_images_xception, axis = 1)\n",
    "# noise_dat.loc[:,['mean_ufp_size_pred_spectrogram']] = noise_dat.apply(lambda value: value.ufp_size_pred_spectrogram_resnet + value.ufp_size_pred_spectrogram_xception, axis = 1)\n",
    "# noise_dat.loc[:,['ln_noise_raw']] = noise_dat.apply(lambda value: np.log(value.noise_10s_ma_spec_label_raw), axis = 1)\n",
    "\n",
    "# # a bit overdone, just leaving space in case we have a second model prediction for the means\n",
    "noise_dat.loc[:,['mean_noise_pred_images']] = noise_dat.apply(lambda value: value.ln_noise_ResNet50_image_raw_prediction, axis = 1)\n",
    "noise_dat.loc[:,['mean_noise_pred_spectrogram']] = noise_dat.apply(lambda value: value.ln_noise_Xception_audio_raw_prediction, axis = 1)\n",
    "noise_dat.loc[:,['mean_ufp_size_pred_images']] = noise_dat.apply(lambda value: value.ln_ufp_size_ResNet50_image_raw_prediction, axis = 1)\n",
    "noise_dat.loc[:,['mean_ufp_size_pred_spectrogram']] = noise_dat.apply(lambda value: value.ln_ufp_size_Xception_audio_raw_prediction, axis = 1)\n",
    "noise_dat.loc[:,['ln_noise_raw']] = noise_dat.apply(lambda value: np.log(value.noise_10s_ma_spec_label_raw), axis = 1)\n",
    "\n",
    "\n",
    "noise_dat"
   ]
  },
  {
   "cell_type": "code",
   "execution_count": 38,
   "id": "360b3dc8",
   "metadata": {},
   "outputs": [
    {
     "data": {
      "text/plain": [
       "noise_10s_ma_spec_label_raw                  float64\n",
       "temp_airp                                    float64\n",
       "wspd_airp                                      int64\n",
       "ln_noise_ResNet50_image_raw_prediction       float64\n",
       "ln_noise_Xception_audio_raw_prediction       float64\n",
       "ln_ufp_size_Xception_audio_raw_prediction    float64\n",
       "ln_ufp_size_ResNet50_image_raw_prediction    float64\n",
       "mean_noise_pred_images                       float64\n",
       "mean_noise_pred_spectrogram                  float64\n",
       "mean_ufp_size_pred_images                    float64\n",
       "mean_ufp_size_pred_spectrogram               float64\n",
       "ln_noise_raw                                 float64\n",
       "dtype: object"
      ]
     },
     "execution_count": 38,
     "metadata": {},
     "output_type": "execute_result"
    }
   ],
   "source": [
    "noise_dat.dtypes"
   ]
  },
  {
   "cell_type": "code",
   "execution_count": 46,
   "id": "e8bc28f9",
   "metadata": {},
   "outputs": [
    {
     "data": {
      "text/plain": [
       "(array([  69.,  687., 1358., 1868., 2320., 2109., 1516.,  643.,  305.,\n",
       "          29.]),\n",
       " array([44.38 , 48.423, 52.466, 56.509, 60.552, 64.595, 68.638, 72.681,\n",
       "        76.724, 80.767, 84.81 ]),\n",
       " <BarContainer object of 10 artists>)"
      ]
     },
     "execution_count": 46,
     "metadata": {},
     "output_type": "execute_result"
    },
    {
     "data": {
      "image/png": "[encoded data removed]",
      "text/plain": [
       "<Figure size 640x480 with 1 Axes>"
      ]
     },
     "metadata": {},
     "output_type": "display_data"
    }
   ],
   "source": [
    "plt.hist(noise_dat.noise_10s_ma_spec_label_raw)\n",
    "# very normal, probably don't need to transform"
   ]
  },
  {
   "cell_type": "code",
   "execution_count": 45,
   "id": "c793fd29",
   "metadata": {},
   "outputs": [
    {
     "data": {
      "text/plain": [
       "['ufp_num_10s_ma_image_label_raw',\n",
       " 'temp_airp',\n",
       " 'wspd_airp',\n",
       " 'ln_ufp_num_ResNet50_image_raw_prediction',\n",
       " 'ln_ufp_num_Xception_audio_raw_prediction',\n",
       " 'ln_ufp_size_ResNet50_image_raw_prediction',\n",
       " 'ln_ufp_size_Xception_audio_raw_prediction',\n",
       " 'mean_ufp_num_pred_images',\n",
       " 'mean_ufp_num_pred_spectrogram',\n",
       " 'mean_ufp_size_pred_images',\n",
       " 'mean_ufp_size_pred_spectrogram',\n",
       " 'ln_ufp_num_raw']"
      ]
     },
     "execution_count": 45,
     "metadata": {},
     "output_type": "execute_result"
    }
   ],
   "source": [
    "[*train_dat]"
   ]
  },
  {
   "cell_type": "code",
   "execution_count": 48,
   "id": "95e319b4",
   "metadata": {},
   "outputs": [
    {
     "data": {
      "text/plain": [
       "mean_noise_pred_images            float64\n",
       "mean_noise_pred_spectrogram       float64\n",
       "mean_ufp_size_pred_spectrogram    float64\n",
       "mean_ufp_size_pred_images         float64\n",
       "temp_airp                         float64\n",
       "wspd_airp                           int64\n",
       "dtype: object"
      ]
     },
     "execution_count": 48,
     "metadata": {},
     "output_type": "execute_result"
    }
   ],
   "source": [
    "# define predictors and target, windspeed included\n",
    "X_predictors, y_target = noise_dat.loc[:,['mean_noise_pred_images', 'mean_noise_pred_spectrogram', 'mean_ufp_size_pred_spectrogram', 'mean_ufp_size_pred_images', 'temp_airp', 'wspd_airp']], noise_dat.loc[:,'noise_10s_ma_spec_label_raw']\n",
    "\n",
    "# do without windspeed for now\n",
    "# X_predictors, y_target = noise_dat.loc[:,['mean_noise_pred_images', 'mean_noise_pred_spectrogram', 'mean_ufp_size_pred_spectrogram', 'mean_ufp_size_pred_images', 'temp_airp']], noise_dat.loc[:,'noise_10s_ma_spec_label_raw'] # noise_10s_ma_spec_label_raw ln_noise_raw \n",
    "\n",
    "X_predictors_train, X_predictors_test, y_target_train, y_target_test = train_test_split(X_predictors, y_target, random_state = 1)\n",
    "\n",
    "X_predictors.dtypes"
   ]
  },
  {
   "cell_type": "code",
   "execution_count": 49,
   "id": "f4baaf9a",
   "metadata": {},
   "outputs": [],
   "source": [
    "# define the ranges of the parameters we want to tune. I took these values from R code\n",
    "\n",
    "my_params = {'learning_rate': np.linspace(0,1,11),\n",
    "             'gamma': list(range(0,11,1)),\n",
    "             'max_depth': list(range(1, 11, 1)),\n",
    "             'min_child_weight': list(range(1,201,10)),\n",
    "             'colsample_bytree': np.linspace(0.2,1,9),\n",
    "             'colsample_bynode': np.linspace(0.2,1,9), \n",
    "             'colsample_bylevel': np.linspace(0.2,1,9), \n",
    "            }"
   ]
  },
  {
   "cell_type": "code",
   "execution_count": 50,
   "id": "bc775698",
   "metadata": {},
   "outputs": [
    {
     "name": "stdout",
     "output_type": "stream",
     "text": [
      "Best params: {'min_child_weight': 1, 'max_depth': 5, 'learning_rate': 0.1, 'gamma': 8, 'colsample_bytree': 0.9000000000000001, 'colsample_bynode': 0.5, 'colsample_bylevel': 0.8}\n",
      "Best score: 0.75506\n"
     ]
    }
   ],
   "source": [
    "# tune model over range of parameters\n",
    "random_search_model = grid_search(x_dat = X_predictors_train, y_dat = y_target_train, \n",
    "                                  n_cv = 10, n_iterations = 5000,\n",
    "                                  params = my_params, \n",
    "                                  random = True)"
   ]
  },
  {
   "cell_type": "code",
   "execution_count": 51,
   "id": "1429dacf",
   "metadata": {},
   "outputs": [
    {
     "data": {
      "text/plain": [
       "array([0.74657942, 0.72174869, 0.76481839, 0.75741368, 0.73992984,\n",
       "       0.77224287, 0.75927158, 0.80076294, 0.76203812, 0.70669711])"
      ]
     },
     "execution_count": 51,
     "metadata": {},
     "output_type": "execute_result"
    }
   ],
   "source": [
    "# use tuned values to train model and evaluate in CV in training set\n",
    "tuned_params = random_search_model.best_params_\n",
    "\n",
    "my_xgb = XGBRegressor(booster='gbtree', tree_method = 'hist', objective='reg:squarederror', random_state=2,\n",
    "                      min_child_weight = tuned_params['min_child_weight'], max_depth = tuned_params['max_depth'],\n",
    "                      learning_rate = tuned_params['learning_rate'], gamma = tuned_params['gamma'], \n",
    "                      colsample_bytree = tuned_params['colsample_bytree'])\n",
    "\n",
    "cross_val_score(my_xgb, X_predictors_train, y_target_train, cv=10, scoring = 'r2')"
   ]
  },
  {
   "cell_type": "code",
   "execution_count": 52,
   "id": "0a94e0ae",
   "metadata": {},
   "outputs": [],
   "source": [
    "# train on training data. The tuned parameters are already in my_xgb\n",
    "final_model = my_xgb.fit(X_predictors_train, y_target_train)"
   ]
  },
  {
   "cell_type": "code",
   "execution_count": 53,
   "id": "a5e2db41",
   "metadata": {},
   "outputs": [
    {
     "name": "stdout",
     "output_type": "stream",
     "text": [
      "RMSE of the base model: 3.454\n",
      "R2 of the base model: 0.752\n"
     ]
    }
   ],
   "source": [
    "# evaluate in test set\n",
    "\n",
    "y_preds = final_model.predict(X_predictors_test)\n",
    "\n",
    "rmse = metrics.mean_squared_error(y_target_test, y_preds, squared=False)\n",
    "print(f\"RMSE of the base model: {rmse:.3f}\")\n",
    "\n",
    "r2 = metrics.r2_score(y_target_test, y_preds)\n",
    "print(f\"R2 of the base model: {r2:.3f}\")"
   ]
  },
  {
   "cell_type": "code",
   "execution_count": 54,
   "id": "554d553a",
   "metadata": {},
   "outputs": [
    {
     "name": "stdout",
     "output_type": "stream",
     "text": [
      "RMSE of the base model: 3.138\n",
      "R2 of the base model: 0.803\n"
     ]
    }
   ],
   "source": [
    "# compare to evaluation in training set (non-CV)\n",
    "\n",
    "y_preds = final_model.predict(X_predictors_train)\n",
    "\n",
    "rmse = metrics.mean_squared_error(y_target_train, y_preds, squared=False)\n",
    "print(f\"RMSE of the base model: {rmse:.3f}\")\n",
    "\n",
    "r2 = metrics.r2_score(y_target_train, y_preds)\n",
    "print(f\"R2 of the base model: {r2:.3f}\")"
   ]
  },
  {
   "cell_type": "code",
   "execution_count": 55,
   "id": "555256a6",
   "metadata": {},
   "outputs": [
    {
     "name": "stderr",
     "output_type": "stream",
     "text": [
      "/home/scott/anaconda3/envs/tf-gpu/lib/python3.8/site-packages/xgboost/core.py:160: UserWarning: [14:33:13] WARNING: /workspace/src/c_api/c_api.cc:1240: Saving into deprecated binary model format, please consider using `json` or `ubj`. Model format will default to JSON in XGBoost 2.2 if not specified.\n",
      "  warnings.warn(smsg, UserWarning)\n"
     ]
    }
   ],
   "source": [
    "# save model https://subscription.packtpub.com/book/data/9781838552862/5/ch05lvl1sec39/saving-and-loading-a-model\n",
    "\n",
    "final_model.save_model('/home/scott/Dropbox/IMAGINE Project/MSSI_Project/Current IMAGINE Models/xgboost_models/noise_xgboost.model')"
   ]
  },
  {
   "cell_type": "code",
   "execution_count": 56,
   "id": "7fd664a3",
   "metadata": {},
   "outputs": [],
   "source": [
    "loaded_model = xgb.Booster({'nthread': 2})\n",
    "\n",
    "loaded_model.load_model('/home/scott/Dropbox/IMAGINE Project/MSSI_Project/Current IMAGINE Models/xgboost_models/noise_xgboost.model')"
   ]
  },
  {
   "cell_type": "code",
   "execution_count": 57,
   "id": "d8e981dd",
   "metadata": {},
   "outputs": [
    {
     "name": "stdout",
     "output_type": "stream",
     "text": [
      "RMSE of the base model: 3.138\n",
      "R2 of the base model: 0.803\n"
     ]
    }
   ],
   "source": [
    "# compare to evaluation in training set (non-CV)\n",
    "\n",
    "train_reg = xgb.DMatrix(X_predictors_train) # even though I didn't pre-process the trainning this way, this is what it expects, I'm guessing this happened behind the scenes somewhere. no biggie\n",
    "\n",
    "y_preds = loaded_model.predict(train_reg)\n",
    "\n",
    "rmse = metrics.mean_squared_error(y_target_train, y_preds, squared=False)\n",
    "print(f\"RMSE of the base model: {rmse:.3f}\")\n",
    "\n",
    "r2 = metrics.r2_score(y_target_train, y_preds)\n",
    "print(f\"R2 of the base model: {r2:.3f}\")"
   ]
  },
  {
   "cell_type": "code",
   "execution_count": 60,
   "id": "90f8970e",
   "metadata": {},
   "outputs": [
    {
     "data": {
      "text/plain": [
       "(array([  36.,  141.,  619., 1046., 1547., 2106., 1471.,  703.,  292.,\n",
       "         217.]),\n",
       " array([44.02808762, 47.64314651, 51.25820541, 54.87326431, 58.48832321,\n",
       "        62.1033783 , 65.71843719, 69.33349609, 72.94855499, 76.56361389,\n",
       "        80.17867279]),\n",
       " <BarContainer object of 10 artists>)"
      ]
     },
     "execution_count": 60,
     "metadata": {},
     "output_type": "execute_result"
    },
    {
     "data": {
      "image/png": "[encoded data removed]",
      "text/plain": [
       "<Figure size 640x480 with 1 Axes>"
      ]
     },
     "metadata": {},
     "output_type": "display_data"
    }
   ],
   "source": [
    "y_preds"
   ]
  },
  {
   "cell_type": "code",
   "execution_count": 63,
   "id": "d15d783b",
   "metadata": {},
   "outputs": [
    {
     "data": {
      "text/plain": [
       "['mean_noise_pred_images',\n",
       " 'mean_noise_pred_spectrogram',\n",
       " 'mean_ufp_size_pred_spectrogram',\n",
       " 'mean_ufp_size_pred_images',\n",
       " 'temp_airp',\n",
       " 'wspd_airp']"
      ]
     },
     "execution_count": 63,
     "metadata": {},
     "output_type": "execute_result"
    }
   ],
   "source": [
    "[*X_predictors_train]"
   ]
  },
  {
   "cell_type": "code",
   "execution_count": 68,
   "id": "3d56fa5e",
   "metadata": {},
   "outputs": [
    {
     "data": {
      "text/plain": [
       "(array([  14.,   30.,   79.,  629., 1161., 2021., 2487., 1202.,  452.,\n",
       "         103.]),\n",
       " array([3.7035956 , 3.77628484, 3.84897408, 3.92166332, 3.99435256,\n",
       "        4.0670418 , 4.13973104, 4.21242028, 4.28510952, 4.35779876,\n",
       "        4.430488  ]),\n",
       " <BarContainer object of 10 artists>)"
      ]
     },
     "execution_count": 68,
     "metadata": {},
     "output_type": "execute_result"
    },
    {
     "data": {
      "image/png": "[encoded data removed]",
      "text/plain": [
       "<Figure size 640x480 with 1 Axes>"
      ]
     },
     "metadata": {},
     "output_type": "display_data"
    }
   ],
   "source": [
    "plt.hist(X_predictors_train.mean_noise_pred_images)"
   ]
  },
  {
   "cell_type": "code",
   "execution_count": null,
   "id": "e83cb921",
   "metadata": {},
   "outputs": [],
   "source": [
    "# scrap below"
   ]
  },
  {
   "cell_type": "code",
   "execution_count": null,
   "id": "28ad17c9",
   "metadata": {},
   "outputs": [],
   "source": [
    "X_predictors.dtypes"
   ]
  },
  {
   "cell_type": "code",
   "execution_count": null,
   "id": "55344747",
   "metadata": {},
   "outputs": [],
   "source": []
  },
  {
   "cell_type": "code",
   "execution_count": null,
   "id": "9519fbee",
   "metadata": {},
   "outputs": [],
   "source": [
    "dtrain_reg = xgb.DMatrix(X_predictors_train, y_target_train, enable_categorical=True)\n",
    "dtest_reg = xgb.DMatrix(X_predictors_test, y_target_test, enable_categorical=True)\n",
    "\n",
    "# Define hyperparameters\n",
    "params = {\"objective\": \"reg:squarederror\", \"tree_method\": \"gpu_hist\"} "
   ]
  },
  {
   "cell_type": "code",
   "execution_count": null,
   "id": "70b91e1f",
   "metadata": {},
   "outputs": [],
   "source": [
    "evals = [(dtrain_reg, \"train\"), (dtest_reg, \"validation\")]\n",
    "n = 1000\n",
    "\n",
    "model = xgb.train(\n",
    "   params=params,\n",
    "   dtrain=dtrain_reg,\n",
    "   num_boost_round=n,\n",
    "   evals=evals,\n",
    "   verbose_eval = 100,\n",
    "   early_stopping_rounds = 500\n",
    "   )"
   ]
  },
  {
   "cell_type": "code",
   "execution_count": null,
   "id": "6ee1e6d1",
   "metadata": {},
   "outputs": [],
   "source": [
    "preds = model.predict(dtest_reg)"
   ]
  },
  {
   "cell_type": "code",
   "execution_count": null,
   "id": "f1844586",
   "metadata": {},
   "outputs": [],
   "source": [
    "import sklearn.metrics as metrics\n",
    "\n",
    "rmse = metrics.mean_squared_error(y_target_test, preds, squared=False)\n",
    "print(f\"RMSE of the base model: {rmse:.3f}\")\n",
    "\n",
    "r2 = metrics.r2_score(y_target_test, preds)\n",
    "print(f\"R2 of the base model: {r2:.3f}\")"
   ]
  },
  {
   "cell_type": "markdown",
   "id": "cfdff5aa",
   "metadata": {},
   "source": [
    "note that .train vs .fit is basically the same, just using different APIs https://stackoverflow.com/questions/73178041/xgboost-fit-vs-xgboost-train\n",
    "\n",
    ".train needs the Dmatrix, it's from the Learning API\n",
    ".fit can take a pd df or np array\n",
    "\n",
    "\n",
    "regression can use gbtree or gblinear, probably doesn't make a huge difference https://stats.stackexchange.com/questions/201619/xgboost-what-is-the-difference-between-the-tree-booster-and-the-linear-booster\n",
    "\n",
    "other parameters: https://xgboost.readthedocs.io/en/stable/parameter.html\n",
    "\n"
   ]
  },
  {
   "cell_type": "code",
   "execution_count": null,
   "id": "a454d8d9",
   "metadata": {},
   "outputs": [],
   "source": [
    "my_xgb = XGBRegressor(booster = 'gbtree', \n",
    "                      objective = 'reg:squarederror', \n",
    "                      max_depth=5, # 1 - 10\n",
    "                      gamma = 5, # 0 = 10\n",
    "                      min_child_weight = 100, # 1-200\n",
    "                      colsample_bytree = 0.6, # 0.2-1\n",
    "                      learning_rate=0.1, # eta, 0 - 1\n",
    "                      n_estimators=100, # R didn't have\n",
    "                      random_state=2, # R didn't have\n",
    "                      n_jobs=-1) # R didn't have"
   ]
  },
  {
   "cell_type": "code",
   "execution_count": null,
   "id": "caa80082",
   "metadata": {},
   "outputs": [],
   "source": [
    "from sklearn.model_selection import cross_val_score\n",
    "from sklearn.model_selection import StratifiedKFold\n",
    "\n",
    "# kfold = StratifiedKFold(n_splits=5, shuffle=True, random_state=2)\n",
    "# scores = cross_val_score(my_xgb, X_predictors, y_target, cv=kfold)\n",
    "\n",
    "scores = cross_val_score(my_xgb, X_predictors_train, y_target_train, cv=5)\n",
    "print('Squared Error:', np.round(scores, 2))\n",
    "print('Mean Squared Error: %0.2f' % (scores.mean()))"
   ]
  },
  {
   "cell_type": "code",
   "execution_count": null,
   "id": "e55e6ea4",
   "metadata": {},
   "outputs": [],
   "source": [
    "my_xgb = XGBRegressor(booster='gbtree', objective='reg:squarederror', random_state=2)\n",
    "prams = params = {'n_estimators': [100,200,300]}\n",
    "my_grid = GridSearchCV(xgb, params, cv=5, n_jobs=-1)\n"
   ]
  },
  {
   "cell_type": "code",
   "execution_count": 59,
   "id": "d8c31648",
   "metadata": {},
   "outputs": [
    {
     "ename": "NameError",
     "evalue": "name 'my_grid' is not defined",
     "output_type": "error",
     "traceback": [
      "\u001b[0;31m---------------------------------------------------------------------------\u001b[0m",
      "\u001b[0;31mNameError\u001b[0m                                 Traceback (most recent call last)",
      "Cell \u001b[0;32mIn[59], line 1\u001b[0m\n\u001b[0;32m----> 1\u001b[0m \u001b[43mmy_grid\u001b[49m\u001b[38;5;241m.\u001b[39mfit(X_predictors_train, y_target_train)\n",
      "\u001b[0;31mNameError\u001b[0m: name 'my_grid' is not defined"
     ]
    }
   ],
   "source": [
    "my_grid.fit(X_predictors_train, y_target_train)"
   ]
  }
 ],
 "metadata": {
  "kernelspec": {
   "display_name": "tf-gpu",
   "language": "python",
   "name": "tf-gpu"
  },
  "language_info": {
   "codemirror_mode": {
    "name": "ipython",
    "version": 3
   },
   "file_extension": ".py",
   "mimetype": "text/x-python",
   "name": "python",
   "nbconvert_exporter": "python",
   "pygments_lexer": "ipython3",
   "version": "3.9.7"
  }
 },
 "nbformat": 4,
 "nbformat_minor": 5
}
